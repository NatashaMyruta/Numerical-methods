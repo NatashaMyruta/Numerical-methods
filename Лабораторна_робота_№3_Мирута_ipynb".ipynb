{
  "nbformat": 4,
  "nbformat_minor": 0,
  "metadata": {
    "colab": {
      "provenance": [],
      "include_colab_link": true
    },
    "kernelspec": {
      "name": "python3",
      "display_name": "Python 3"
    },
    "language_info": {
      "name": "python"
    }
  },
  "cells": [
    {
      "cell_type": "markdown",
      "metadata": {
        "id": "view-in-github",
        "colab_type": "text"
      },
      "source": [
        "<a href=\"https://colab.research.google.com/github/NatashaMyruta/Numerical-methods/blob/main/%D0%9B%D0%B0%D0%B1%D0%BE%D1%80%D0%B0%D1%82%D0%BE%D1%80%D0%BD%D0%B0_%D1%80%D0%BE%D0%B1%D0%BE%D1%82%D0%B0_%E2%84%963_%D0%9C%D0%B8%D1%80%D1%83%D1%82%D0%B0_ipynb%22.ipynb\" target=\"_parent\"><img src=\"https://colab.research.google.com/assets/colab-badge.svg\" alt=\"Open In Colab\"/></a>"
      ]
    },
    {
      "cell_type": "markdown",
      "source": [
        "Мирута Наталія Романівна Варіант 8 ФІТ 2-15"
      ],
      "metadata": {
        "id": "5btMKWSgU2Br"
      }
    },
    {
      "cell_type": "markdown",
      "source": [
        "1. Метод ділення навпіл."
      ],
      "metadata": {
        "id": "VgrW9zRY0dVt"
      }
    },
    {
      "cell_type": "code",
      "execution_count": 20,
      "metadata": {
        "colab": {
          "base_uri": "https://localhost:8080/"
        },
        "id": "iOTNXySVyeHy",
        "outputId": "b09c46b8-aa42-4468-8217-93ce301b7f02"
      },
      "outputs": [
        {
          "output_type": "stream",
          "name": "stdout",
          "text": [
            "Результати обчислень\n",
            "\n",
            "          a      F(a)         c      F(c)       b      F(b)\n",
            "0 -3.000000  0.977954 -2.000000  1.135204 -1.0000 -0.454649\n",
            "1 -2.000000  1.135204 -1.500000 -0.123480 -1.0000 -0.454649\n",
            "2 -2.000000  1.135204 -1.750000  0.405593 -1.5000 -0.123480\n",
            "3 -1.750000  0.405593 -1.625000  0.109040 -1.5000 -0.123480\n",
            "4 -1.625000  0.109040 -1.562500 -0.015587 -1.5000 -0.123480\n",
            "5 -1.625000  0.109040 -1.593750  0.044659 -1.5625 -0.015587\n",
            "6 -1.593750  0.044659 -1.578125  0.014015 -1.5625 -0.015587\n",
            "7 -1.578125  0.014015 -1.570312 -0.000917 -1.5625 -0.015587\n",
            "\n",
            "В точці с =  -1.5703125 , f(c) =  -0.0009171268569415665\n"
          ]
        }
      ],
      "source": [
        "import numpy as np\n",
        "import pandas as pd\n",
        "\n",
        "# Визначаємо функцію\n",
        "def f (x):\n",
        "    y = np.cos(x)*np.sin(x)*(x**2+x+1)\n",
        "    return y\n",
        "# Визначаємо границі відрізку\n",
        "a = -3\n",
        "b = -1\n",
        "# Визначаємо точність розв'язку\n",
        "h = 0.001\n",
        "# Поділяємо відрізок навпіл\n",
        "c = (a+b)/2\n",
        "# Зберігаємо результати обчислень\n",
        "data_A = [a]\n",
        "data_B = [b]\n",
        "data_C = [c]\n",
        "data_F_A = [f(a)]\n",
        "data_F_B = [f(b)]\n",
        "data_F_C = [f(c)]\n",
        "# Перевіряємо досягнення точності\n",
        "while abs(f(c)) > h:\n",
        "    # Звужуємо відрізок\n",
        "    if np.sign(f(c)) == np.sign(f(a)):\n",
        "        a = c\n",
        "    else:\n",
        "        b = c\n",
        "    # Поділяємо відрізок навпіл\n",
        "    c = (a+b)/2\n",
        "    # Зберігаємо результати обчислень\n",
        "    data_A.append(a)\n",
        "    data_B.append(b)\n",
        "    data_C.append(c)\n",
        "    data_F_A.append(f(a))\n",
        "    data_F_B.append(f(b))\n",
        "    data_F_C.append(f(c))\n",
        "# Відображаємо результати обчислень\n",
        "print('Результати обчислень')\n",
        "print()\n",
        "data = pd.DataFrame({'a': data_A,\n",
        "                     'F(a)': data_F_A,\n",
        "                     'c': data_C,\n",
        "                     'F(c)': data_F_C,\n",
        "                     'b': data_B,\n",
        "                     'F(b)': data_F_B})\n",
        "print(data)\n",
        "# Відображаємо наближений корінь рівняння\n",
        "print()\n",
        "print('В точці с = ', c, ', f(c) = ', f(c))"
      ]
    },
    {
      "cell_type": "markdown",
      "source": [
        "2. Метод ділення навпіл"
      ],
      "metadata": {
        "id": "5hYa7ucn0PEN"
      }
    },
    {
      "cell_type": "code",
      "source": [
        "import numpy as np\n",
        "import scipy.optimize as sp\n",
        "\n",
        "def f(x):\n",
        "    y = np.cos(x)*np.sin(x)*(x**2+x+1)\n",
        "    return y\n",
        "\n",
        "a = -3\n",
        "b = -1\n",
        "tol = 1.e-3\n",
        "\n",
        "x = sp.bisect(f, a,b,(),tol) #функція для метода\n",
        "\n",
        "print('The approximate solution x is:', x)\n",
        "print('And the value f(x) is:', f(x))"
      ],
      "metadata": {
        "colab": {
          "base_uri": "https://localhost:8080/"
        },
        "id": "ML3KEw5q0H1e",
        "outputId": "d0c80265-07b4-4e1f-af61-547fee1c7963"
      },
      "execution_count": 21,
      "outputs": [
        {
          "output_type": "stream",
          "name": "stdout",
          "text": [
            "The approximate solution x is: -1.5712890625\n",
            "And the value f(x) is: 0.0009350448126615916\n"
          ]
        }
      ]
    },
    {
      "cell_type": "markdown",
      "source": [
        "3. Метод хорд"
      ],
      "metadata": {
        "id": "sYf0IvR41ufd"
      }
    },
    {
      "cell_type": "code",
      "source": [
        "import numpy as np\n",
        "import pandas as pd\n",
        "# Визначаємо функцію\n",
        "def f(x):\n",
        "    y = np.cos(x)*np.sin(x)*(x**2+x+1)\n",
        "    return y\n",
        "# Визначаємо межі відрізку\n",
        "a = -3\n",
        "b = -1\n",
        "# Визначаємо точність розв'язку\n",
        "h = 0.001\n",
        "# Точка, де хорда перетинає вісь 0x\n",
        "c = (f(a)*b-a*f(b))/(f(a)-f(b))\n",
        "\n",
        "# Зберігаємо результати обчислень\n",
        "data_A = [a]\n",
        "data_B = [b]\n",
        "data_C = [c]\n",
        "data_F_A = [f(a)]\n",
        "data_F_B = [f(b)]\n",
        "data_F_C = [f(c)]\n",
        "# Перевіряємо досягнення точності\n",
        "while abs(f(c)) > h:\n",
        "    # Звужуємо відрізок\n",
        "    if np.sign(f(c)) == np.sign(f(a)):\n",
        "        a = c\n",
        "    else:\n",
        "        b = c\n",
        "    # Точка, де хорда перетинає вісь 0x\n",
        "    c = (f(a)*b-a*f(b))/(f(a)-f(b))\n",
        "    # Зберігаємо результати обчислень\n",
        "    data_A.append(a)\n",
        "    data_B.append(b)\n",
        "    data_C.append(c)\n",
        "    data_F_A.append(f(a))\n",
        "    data_F_B.append(f(b))\n",
        "    data_F_C.append(f(c))\n",
        "# Відображаємо результати обчислень\n",
        "print('Результати обчислень')\n",
        "print()\n",
        "data = pd.DataFrame({'a': data_A, 'F(a)': data_F_A,\n",
        "                     'c': data_C, 'F(c)': data_F_C,\n",
        "                     'b': data_B, 'F(b)': data_F_B})\n",
        "print(data)\n",
        "# Відображаємо наближений корінь рівняння\n",
        "print()\n",
        "print('В точці с = ', c, ', f(c) = ', f(c))"
      ],
      "metadata": {
        "colab": {
          "base_uri": "https://localhost:8080/"
        },
        "id": "3p6i5xHK1y3l",
        "outputId": "53bdadad-b8c2-461a-8132-e332439ff601"
      },
      "execution_count": 22,
      "outputs": [
        {
          "output_type": "stream",
          "name": "stdout",
          "text": [
            "Результати обчислень\n",
            "\n",
            "          a      F(a)         c      F(c)         b      F(b)\n",
            "0 -3.000000  0.977954 -1.634717  0.129889 -1.000000 -0.454649\n",
            "1 -1.634717  0.129889 -1.493678 -0.133455 -1.000000 -0.454649\n",
            "2 -1.634717  0.129889 -1.565152 -0.010636 -1.493678 -0.133455\n",
            "3 -1.634717  0.129889 -1.570418 -0.000718 -1.565152 -0.010636\n",
            "\n",
            "В точці с =  -1.5704175737258015 , f(c) =  -0.0007180376446871882\n"
          ]
        }
      ]
    },
    {
      "cell_type": "markdown",
      "source": [
        "4. Метод Ньютона (дотичних)"
      ],
      "metadata": {
        "id": "40blPBSK2Cdm"
      }
    },
    {
      "cell_type": "code",
      "source": [
        "import numpy as np\n",
        "import pandas as pd\n",
        "# Визначаємо функцію\n",
        "def f(x):\n",
        "    y = np.cos(x)*np.sin(x)*(x**2+x+1)\n",
        "    return y\n",
        "# Визначаємо першу похідну\n",
        "def df(x):\n",
        "    y1 = -(x**2+x+1)*(np.sin(x))**2\n",
        "    y2 = (x**2+x+1)*(np.cos(x))**2\n",
        "    y3 = (2*x+1)*np.sin(x)*np.cos(x)\n",
        "    y = y1+y2+y3\n",
        "    return y\n",
        "# Визначаємо початкову точку\n",
        "c = -1.4\n",
        "# Визначаємо точність розв'язку\n",
        "h = 0.001\n",
        "# Зберігаємо результати обчислень\n",
        "data_C = [c]\n",
        "data_F_C = [f(c)]\n",
        "# Перевіряємо досягнення точності\n",
        "while abs(f(c)) > h:\n",
        "    # Точка, де дотична перетинає вісь 0x\n",
        "    c -= f(c)/df(c)\n",
        "    # Зберігаємо результати обчислень\n",
        "    data_C.append(c)\n",
        "    data_F_C.append(f(c))\n",
        "# Відображаємо результати обчислень\n",
        "print('Результати обчислень')\n",
        "print()\n",
        "data = pd.DataFrame({'c': data_C, 'F(c)': data_F_C})\n",
        "print(data)\n",
        "# Відображаємо наближений корінь рівняння\n",
        "print()\n",
        "print('В точці с = ', c, ', f(c) = ', f(c))"
      ],
      "metadata": {
        "colab": {
          "base_uri": "https://localhost:8080/"
        },
        "id": "WeGQjbjW2HDz",
        "outputId": "35062008-aaf2-443c-f548-4703f4e05ac8"
      },
      "execution_count": 23,
      "outputs": [
        {
          "output_type": "stream",
          "name": "stdout",
          "text": [
            "Результати обчислень\n",
            "\n",
            "          c      F(c)\n",
            "0 -1.400000 -0.261291\n",
            "1 -1.623636  0.106144\n",
            "2 -1.573564  0.005266\n",
            "3 -1.570805  0.000016\n",
            "\n",
            "В точці с =  -1.5708049170979717 , f(c) =  1.6292567852764437e-05\n"
          ]
        }
      ]
    },
    {
      "cell_type": "markdown",
      "source": [
        "5. Метод Ньютона (дотичних)"
      ],
      "metadata": {
        "id": "qjI38bTp0xCo"
      }
    },
    {
      "cell_type": "code",
      "source": [
        "import numpy as np\n",
        "import scipy.optimize as sp\n",
        "\n",
        "def f(x):\n",
        "    y = np.cos(x)*np.sin(x)*(x**2+x+1)\n",
        "    return y\n",
        "\n",
        "def df(x):# Обчислення похідної\n",
        "    y1 = -(x**2+x+1)*(np.sin(x))**2\n",
        "    y2 = (x**2+x+1)*(np.cos(x))**2\n",
        "    y3 = (2*x+1)*np.sin(x)*np.cos(x)\n",
        "    y = y1+y2+y3\n",
        "    return y\n",
        "\n",
        "x0 = -1.4\n",
        "x1 = 1.4\n",
        "\n",
        "x_0 = sp.newton(f, x0, df, tol=1.e-3, maxiter=50)\n",
        "x_1 = sp.newton(f, x1, df, tol=1.e-3, maxiter=50)\n",
        "\n",
        "print('The approximate solution x is:', x_0)\n",
        "print('And the value f(x_0) is:', f(x_0))\n",
        "\n",
        "print('The approximate solution x is:', x_1)\n",
        "print('And the value f(x_0) is:', f(x_1))"
      ],
      "metadata": {
        "colab": {
          "base_uri": "https://localhost:8080/"
        },
        "id": "AonZxq_H0m6-",
        "outputId": "f36270f8-d27e-4ced-86fa-202fffe01497"
      },
      "execution_count": 24,
      "outputs": [
        {
          "output_type": "stream",
          "name": "stdout",
          "text": [
            "The approximate solution x is: -1.5707963268782201\n",
            "And the value f(x_0) is: 1.5803176499052036e-10\n",
            "The approximate solution x is: 1.5707963267958693\n",
            "And the value f(x_0) is: -4.9007361645997675e-12\n"
          ]
        }
      ]
    },
    {
      "cell_type": "markdown",
      "source": [
        " # Знаходження коренів рівняння за допомогою бібліотеки SymPy"
      ],
      "metadata": {
        "id": "pvK9N9TH1QD-"
      }
    },
    {
      "cell_type": "code",
      "source": [
        "import sympy as sym\n",
        "\n",
        "x = sym.Symbol('x')\n",
        "\n",
        "y = sym.cos(x)*sym.sin(x)*(x**2+x+1)\n",
        "\n",
        "s = sym.solve(y)\n",
        "\n",
        "print(s)"
      ],
      "metadata": {
        "colab": {
          "base_uri": "https://localhost:8080/"
        },
        "id": "PuAp1WCr08qt",
        "outputId": "e150a033-5478-4f8c-a4d9-a679dca40d72"
      },
      "execution_count": 25,
      "outputs": [
        {
          "output_type": "stream",
          "name": "stdout",
          "text": [
            "[0, pi/2, pi, 3*pi/2, -1/2 - sqrt(3)*I/2, -1/2 + sqrt(3)*I/2]\n"
          ]
        }
      ]
    },
    {
      "cell_type": "code",
      "source": [
        "import sympy as sym\n",
        "\n",
        "x, a, b, c = sym.symbols('x, a, b, c')\n",
        "\n",
        "y = a * x**2 + b * x + c\n",
        "\n",
        "s = sym.solve(y, x)\n",
        "\n",
        "print(s)"
      ],
      "metadata": {
        "colab": {
          "base_uri": "https://localhost:8080/"
        },
        "id": "Y0d-uHtp1c7r",
        "outputId": "f0f1c90a-c634-4bad-ed3f-e4129fb9f0a2"
      },
      "execution_count": 26,
      "outputs": [
        {
          "output_type": "stream",
          "name": "stdout",
          "text": [
            "[(-b - sqrt(-4*a*c + b**2))/(2*a), (-b + sqrt(-4*a*c + b**2))/(2*a)]\n"
          ]
        }
      ]
    },
    {
      "cell_type": "markdown",
      "source": [],
      "metadata": {
        "id": "mk1oBvYj1GC2"
      }
    },
    {
      "cell_type": "code",
      "source": [
        "!pip install numdifftools"
      ],
      "metadata": {
        "colab": {
          "base_uri": "https://localhost:8080/"
        },
        "id": "yiLJNuM3Cq0-",
        "outputId": "48399877-5323-4184-fc90-b71d29cb6ab2"
      },
      "execution_count": 27,
      "outputs": [
        {
          "output_type": "stream",
          "name": "stdout",
          "text": [
            "Requirement already satisfied: numdifftools in /usr/local/lib/python3.11/dist-packages (0.9.41)\n",
            "Requirement already satisfied: numpy>=1.9 in /usr/local/lib/python3.11/dist-packages (from numdifftools) (2.0.2)\n",
            "Requirement already satisfied: scipy>=0.8 in /usr/local/lib/python3.11/dist-packages (from numdifftools) (1.14.1)\n"
          ]
        }
      ]
    },
    {
      "cell_type": "code",
      "source": [
        "#Лабораторна робота 2\n",
        "#Відокремлення коренів\n",
        "#Варіант 8 змінено на варіант 20\n",
        "import numpy as np\n",
        "import numdifftools as nd\n",
        "def f(x):\n",
        "    return 4*x**4 + 4*x**3 - 6*x**2 - 9*x - 1 #20 варіант\n",
        "\n",
        "\n",
        "def find_segments(): #відокремлюємо корені\n",
        "    search_range = np.arange(-10, 10, 1)\n",
        "\n",
        "    a = None\n",
        "    previous_x = None\n",
        "    current_x  = None\n",
        "    segments = []\n",
        "\n",
        "    for x in search_range:\n",
        "        x = round(x, 4)\n",
        "        current_x = f(x)\n",
        "        if previous_x != None and previous_x * current_x < 0:\n",
        "            segments.append((a, x))\n",
        "        a = x\n",
        "        previous_x = current_x\n",
        "    return segments\n",
        "\n",
        "segments = find_segments()\n",
        "for a, b in segments:\n",
        "    print(f'Found segment:  [{a}, {b}]')\n"
      ],
      "metadata": {
        "colab": {
          "base_uri": "https://localhost:8080/"
        },
        "id": "L-9dn4npCso-",
        "outputId": "d7f75294-ce65-438c-800b-cf009ce7459f"
      },
      "execution_count": 28,
      "outputs": [
        {
          "output_type": "stream",
          "name": "stdout",
          "text": [
            "Found segment:  [-1, 0]\n",
            "Found segment:  [1, 2]\n"
          ]
        }
      ]
    },
    {
      "cell_type": "code",
      "source": [
        "import numpy as np\n",
        "import matplotlib.pyplot as plt\n",
        "\n",
        "# Визначення функції\n",
        "def f(x):\n",
        "    return 4*x**4 + 4*x**3 - 6*x**2 - 9*x - 1\n",
        "\n",
        "# Генерація значень x\n",
        "x = np.linspace(-4, 2, 400)\n",
        "\n",
        "# Генерація значень y\n",
        "y = f(x)\n",
        "\n",
        "# Побудова графіка\n",
        "plt.figure(figsize=(8, 6))\n",
        "plt.plot(x, y, label='4*x**4 + 4*x**3 - 6*x**2 - 9*x - 1', color='blue')\n",
        "plt.title('Графік функції 4*x**4 + 4*x**3 - 6*x**2 - 9*x - 1')\n",
        "plt.xlabel('x')\n",
        "plt.ylabel('f(x)')\n",
        "\n",
        "# Додавання осей з стрілками\n",
        "plt.axhline(0, color='black', linewidth=0.5)\n",
        "plt.axvline(0, color='black', linewidth=0.5)\n",
        "\n",
        "plt.text(2.05, -4, 'x', ha='center', va='center')\n",
        "plt.text(-0.3, 190, 'y', ha='center', va='center')\n",
        "\n",
        "plt.grid(True)\n",
        "plt.legend()\n",
        "plt.show()\n",
        "\n"
      ],
      "metadata": {
        "colab": {
          "base_uri": "https://localhost:8080/",
          "height": 564
        },
        "id": "7zUI3d1xZXar",
        "outputId": "12ef811c-3e95-48a6-9f63-825a7e47cce2"
      },
      "execution_count": 29,
      "outputs": [
        {
          "output_type": "display_data",
          "data": {
            "text/plain": [
              "<Figure size 800x600 with 1 Axes>"
            ],
            "image/png": "[encoded data removed]"
          },
          "metadata": {}
        }
      ]
    },
    {
      "cell_type": "markdown",
      "source": [
        "![image.png](data:image/png;base64,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)"
      ],
      "metadata": {
        "id": "KOfoQRUfVKI3"
      }
    },
    {
      "cell_type": "code",
      "source": [
        "#Лабораторна робота. Метод половинного ділення, хорд\n",
        "\n",
        "\n",
        "def rec(a, b, eps):  # метод половинного ділення\n",
        "    while (abs(a - b) > eps):\n",
        "        if f(a) * f((a + b) / 2) < 0:\n",
        "            b = (a + b) / 2\n",
        "        else:\n",
        "            a = (a + b) / 2\n",
        "        x = (a + b) / 2\n",
        "\n",
        "    print('x= ', round(x, 5), '  -   Half division method')\n"
      ],
      "metadata": {
        "id": "BgjK94O9Cfxe"
      },
      "execution_count": 30,
      "outputs": []
    },
    {
      "cell_type": "code",
      "source": [
        "def hord(a, b, eps):  # метод хорд\n",
        "    derivative_f = nd.Derivative(f, n=1)\n",
        "    if f(a) * derivative_f(a) > 0:\n",
        "        x0 = a\n",
        "        xi = b\n",
        "    else:\n",
        "        x0 = b\n",
        "        xi = a\n",
        "    xi_1 = xi - (xi - x0) * f(xi) / (f(xi) - f(x0))\n",
        "    while (abs(xi_1 - xi) > eps):\n",
        "        xi = xi_1\n",
        "        xi_1 = xi - (xi - x0) * f(xi) / (f(xi) - f(x0))\n",
        "    print('x= ', round(xi_1, 5), '  -   Chord method')\n"
      ],
      "metadata": {
        "id": "Sz_KWVf7D2tL"
      },
      "execution_count": 32,
      "outputs": []
    },
    {
      "cell_type": "code",
      "source": [
        "if __name__ == \"__main__\":\n",
        "    a1, b1 = -1, 0\n",
        "    a2, b2 = 1, 2\n",
        "    eps = 0.001\n",
        "    print(\"Розв'язки на відрізку [-1,0]\")\n",
        "    rec(a1, b1, eps)\n",
        "    hord(a1, b1, eps)\n",
        "    print(\"\\n Розв'язки на відрізку [1,2]\")\n",
        "    rec(a2, b2, eps)\n",
        "    hord(a2, b2, eps)"
      ],
      "metadata": {
        "id": "upx7R4yoFZj_",
        "outputId": "7113587a-a70f-446d-857e-2a9325c28c80",
        "colab": {
          "base_uri": "https://localhost:8080/"
        }
      },
      "execution_count": 33,
      "outputs": [
        {
          "output_type": "stream",
          "name": "stdout",
          "text": [
            "Розв'язки на відрізку [-1,0]\n",
            "x=  -0.12158   -   Half division method\n",
            "x=  -0.12172   -   Chord method\n",
            "\n",
            " Розв'язки на відрізку [1,2]\n",
            "x=  1.37549   -   Half division method\n",
            "x=  1.37486   -   Chord method\n"
          ]
        }
      ]
    },
    {
      "cell_type": "code",
      "source": [
        "#Лабораторна робота 3. Метод Ньютона (дотичних). Комбінований метод\n",
        "\n",
        "def nuton(a, b, eps, f):\n",
        "    df2 = nd.Derivative(f, n=2)(b)  # Отримуємо значення похідної другого порядку в точці b\n",
        "    if f(b) * df2 > 0:\n",
        "        xi = b\n",
        "    else:\n",
        "        xi = a\n",
        "    df = nd.Derivative(f, n=1)(xi)  # Отримуємо значення похідної першого порядку в точці xi\n",
        "    xi_1 = xi - f(xi) / df\n",
        "    while abs(xi_1 - xi) > eps:  # перевіряємо точність\n",
        "        xi = xi_1\n",
        "        xi_1 = xi - f(xi) / df\n",
        "    print('Метод Ньютона, x = ', xi_1.round(4))\n",
        "\n",
        "def komb(a, b, eps, f):\n",
        "    df2 = nd.Derivative(f, n=2)(a)\n",
        "    if f(a) * df2 > 0:\n",
        "        a0 = a\n",
        "        b0 = b\n",
        "    else:\n",
        "        a0 = b\n",
        "        b0 = a\n",
        "    ai = a0\n",
        "    bi = b0\n",
        "    while abs(ai - bi) > eps:\n",
        "        ai_1 = ai - f(ai) * (bi - ai) / (f(bi) - f(ai))\n",
        "        bi_1 = bi - f(bi) / nd.Derivative(f, n=1)(bi)\n",
        "        ai = ai_1\n",
        "        bi = bi_1\n",
        "    x = (ai_1 + bi_1) / 2\n",
        "\n",
        "    print('Комбінований метод, x = ', x.round(4))\n",
        "\n",
        "if __name__ == \"__main__\":\n",
        "    a1, b1 = -1, 0\n",
        "    a2, b2 = 1, 2\n",
        "    eps = 0.001\n",
        "\n",
        "    print(\"Розв'язання на відрізку [-1,0]\")\n",
        "    nuton(a1, b1, eps, f)\n",
        "    komb(a1, b1, eps, f)\n",
        "    print(\"\\n Розв'язання на відрізку [1,2]\")\n",
        "    nuton(a2, b2, eps, f)\n",
        "    komb(a2, b2, eps, f)"
      ],
      "metadata": {
        "colab": {
          "base_uri": "https://localhost:8080/"
        },
        "id": "uz6OF8g2C-vY",
        "outputId": "2b6227b1-9c08-4007-c42d-e177f4c36126"
      },
      "execution_count": 35,
      "outputs": [
        {
          "output_type": "stream",
          "name": "stdout",
          "text": [
            "Розв'язання на відрізку [-1,0]\n",
            "Метод Ньютона, x =  -0.1216\n",
            "Комбінований метод, x =  -0.1217\n",
            "\n",
            " Розв'язання на відрізку [1,2]\n",
            "Метод Ньютона, x =  1.3782\n",
            "Комбінований метод, x =  1.3756\n"
          ]
        }
      ]
    },
    {
      "cell_type": "markdown",
      "source": [
        "Висновок: розв'язано нелінійне рівняння методом Ньютона та комбінованим методом. Розв'язки співпадають."
      ],
      "metadata": {
        "id": "6AG6L8CPXcKj"
      }
    }
  ]
}