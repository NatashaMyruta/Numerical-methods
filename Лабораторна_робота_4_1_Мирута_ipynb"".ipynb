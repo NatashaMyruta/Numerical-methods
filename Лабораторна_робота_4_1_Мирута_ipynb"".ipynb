{
  "cells": [
    {
      "cell_type": "markdown",
      "metadata": {
        "id": "view-in-github",
        "colab_type": "text"
      },
      "source": [
        "<a href=\"https://colab.research.google.com/github/NatashaMyruta/Numerical-methods/blob/main/%D0%9B%D0%B0%D0%B1%D0%BE%D1%80%D0%B0%D1%82%D0%BE%D1%80%D0%BD%D0%B0_%D1%80%D0%BE%D0%B1%D0%BE%D1%82%D0%B0_4_1_%D0%9C%D0%B8%D1%80%D1%83%D1%82%D0%B0_ipynb%22%22.ipynb\" target=\"_parent\"><img src=\"https://colab.research.google.com/assets/colab-badge.svg\" alt=\"Open In Colab\"/></a>"
      ]
    },
    {
      "cell_type": "markdown",
      "source": [
        "Мирута Наталія Романівна ФІТ 2-15"
      ],
      "metadata": {
        "id": "9Uv0HJoZccST"
      },
      "id": "9Uv0HJoZccST"
    },
    {
      "cell_type": "code",
      "source": [
        "import numpy as np\n",
        "np.__version__"
      ],
      "metadata": {
        "colab": {
          "base_uri": "https://localhost:8080/",
          "height": 35
        },
        "id": "YPxxLwntengn",
        "outputId": "782b6145-0b80-4423-b1ff-5d64221b34aa"
      },
      "id": "YPxxLwntengn",
      "execution_count": 1,
      "outputs": [
        {
          "output_type": "execute_result",
          "data": {
            "text/plain": [
              "'2.0.2'"
            ],
            "application/vnd.google.colaboratory.intrinsic+json": {
              "type": "string"
            }
          },
          "metadata": {},
          "execution_count": 1
        }
      ]
    },
    {
      "cell_type": "markdown",
      "source": [
        "1. Створи матрицю 3*3, заповни її цілими випадковими числами від 1 до 5"
      ],
      "metadata": {
        "id": "5oDB2-ZbfBNb"
      },
      "id": "5oDB2-ZbfBNb"
    },
    {
      "cell_type": "code",
      "source": [
        "matrix = np.random.randint(1, 6, size=(3, 3))\n",
        "matrix"
      ],
      "metadata": {
        "colab": {
          "base_uri": "https://localhost:8080/"
        },
        "id": "bl91EOxie-vm",
        "outputId": "2f6d043a-4a8c-4913-84c3-a12604a7ff41"
      },
      "id": "bl91EOxie-vm",
      "execution_count": 2,
      "outputs": [
        {
          "output_type": "execute_result",
          "data": {
            "text/plain": [
              "array([[4, 1, 2],\n",
              "       [4, 5, 5],\n",
              "       [1, 5, 2]])"
            ]
          },
          "metadata": {},
          "execution_count": 2
        }
      ]
    },
    {
      "cell_type": "markdown",
      "source": [
        "2. Обчислити визначник матриці"
      ],
      "metadata": {
        "id": "D4_BEDQlfKTU"
      },
      "id": "D4_BEDQlfKTU"
    },
    {
      "cell_type": "code",
      "source": [
        "det = np.linalg.det(matrix)\n",
        "det"
      ],
      "metadata": {
        "colab": {
          "base_uri": "https://localhost:8080/"
        },
        "id": "N7aCXrx3fN-m",
        "outputId": "e837290a-004e-4a2a-fa77-89cbb4f5003d"
      },
      "id": "N7aCXrx3fN-m",
      "execution_count": 3,
      "outputs": [
        {
          "output_type": "execute_result",
          "data": {
            "text/plain": [
              "np.float64(-33.0)"
            ]
          },
          "metadata": {},
          "execution_count": 3
        }
      ]
    },
    {
      "cell_type": "markdown",
      "source": [
        "3. Знайти добуток всіх елементів матриці"
      ],
      "metadata": {
        "id": "efza0hIzfdv7"
      },
      "id": "efza0hIzfdv7"
    },
    {
      "cell_type": "code",
      "source": [
        "product = np.prod(matrix)\n",
        "product"
      ],
      "metadata": {
        "colab": {
          "base_uri": "https://localhost:8080/"
        },
        "id": "yIDF2ikNfeXe",
        "outputId": "0d1ac975-2001-4a13-d115-fa7618e698b8"
      },
      "id": "yIDF2ikNfeXe",
      "execution_count": 4,
      "outputs": [
        {
          "output_type": "execute_result",
          "data": {
            "text/plain": [
              "np.int64(8000)"
            ]
          },
          "metadata": {},
          "execution_count": 4
        }
      ]
    },
    {
      "cell_type": "code",
      "source": [
        "prod_1= np.prod(matrix[0])\n",
        "prod_2 = np.prod(matrix[1])\n",
        "prod_3= np.prod(matrix[2])\n",
        "prod_1*prod_2*prod_3"
      ],
      "metadata": {
        "colab": {
          "base_uri": "https://localhost:8080/"
        },
        "id": "GABZdEXtfx7q",
        "outputId": "605673c6-a1a4-421d-b518-3867cce976b0"
      },
      "id": "GABZdEXtfx7q",
      "execution_count": 6,
      "outputs": [
        {
          "output_type": "execute_result",
          "data": {
            "text/plain": [
              "np.int64(8000)"
            ]
          },
          "metadata": {},
          "execution_count": 6
        }
      ]
    },
    {
      "cell_type": "markdown",
      "source": [
        "4. Знайти суму всіх елементів матриці"
      ],
      "metadata": {
        "id": "oTlWsYMmf2hG"
      },
      "id": "oTlWsYMmf2hG"
    },
    {
      "cell_type": "code",
      "source": [
        "sum = np.sum(matrix)\n",
        "sum"
      ],
      "metadata": {
        "colab": {
          "base_uri": "https://localhost:8080/"
        },
        "id": "VWjBFmmpf5Ja",
        "outputId": "f93868ff-0652-45d0-8296-7a91bd29fe04"
      },
      "id": "VWjBFmmpf5Ja",
      "execution_count": 7,
      "outputs": [
        {
          "output_type": "execute_result",
          "data": {
            "text/plain": [
              "np.int64(29)"
            ]
          },
          "metadata": {},
          "execution_count": 7
        }
      ]
    },
    {
      "cell_type": "markdown",
      "source": [
        "5. Обчислити найбільший, найменший елементи"
      ],
      "metadata": {
        "id": "0cBbZnnVf99k"
      },
      "id": "0cBbZnnVf99k"
    },
    {
      "cell_type": "code",
      "source": [
        "max_element = np.max(matrix)\n",
        "print(\"Найбільший елемент матриці:\", max_element)\n",
        "min_element = np.min(matrix)\n",
        "print(\"Найменший елемент матриці:\", min_element)"
      ],
      "metadata": {
        "colab": {
          "base_uri": "https://localhost:8080/"
        },
        "id": "eSlqYHyggA_L",
        "outputId": "bd0e4dff-2049-4ac4-acfa-3b6cb52f0cee"
      },
      "id": "eSlqYHyggA_L",
      "execution_count": 8,
      "outputs": [
        {
          "output_type": "stream",
          "name": "stdout",
          "text": [
            "Найбільший елемент матриці: 5\n",
            "Найменший елемент матриці: 1\n"
          ]
        }
      ]
    },
    {
      "cell_type": "markdown",
      "source": [
        "6. Знайти середнє значення елементів матриці"
      ],
      "metadata": {
        "id": "GCpF-L3dgSyW"
      },
      "id": "GCpF-L3dgSyW"
    },
    {
      "cell_type": "code",
      "source": [
        "mean = np.mean (matrix)\n",
        "print(\"Середнє значення елементів матриці:\", mean)"
      ],
      "metadata": {
        "colab": {
          "base_uri": "https://localhost:8080/"
        },
        "id": "2ZOR8Y2DgUzr",
        "outputId": "7df73f60-500c-4f9d-f7ac-10e40b555d06"
      },
      "id": "2ZOR8Y2DgUzr",
      "execution_count": 9,
      "outputs": [
        {
          "output_type": "stream",
          "name": "stdout",
          "text": [
            "Середнє значення елементів матриці: 3.2222222222222223\n"
          ]
        }
      ]
    },
    {
      "cell_type": "markdown",
      "source": [
        "7. Знайти матрицю, що складена з квадратних коренів."
      ],
      "metadata": {
        "id": "CiojeBGjgpT0"
      },
      "id": "CiojeBGjgpT0"
    },
    {
      "cell_type": "code",
      "source": [
        "sqrt_matrix = np.sqrt(matrix)\n",
        "print(\"Матриця квадратних коренів:\")\n",
        "print(sqrt_matrix)"
      ],
      "metadata": {
        "colab": {
          "base_uri": "https://localhost:8080/"
        },
        "id": "UmSpGkFhgqBb",
        "outputId": "5cbfefd3-9b0c-4f6a-bd7a-62d3cea29779"
      },
      "id": "UmSpGkFhgqBb",
      "execution_count": 10,
      "outputs": [
        {
          "output_type": "stream",
          "name": "stdout",
          "text": [
            "Матриця квадратних коренів:\n",
            "[[2.         1.         1.41421356]\n",
            " [2.         2.23606798 2.23606798]\n",
            " [1.         2.23606798 1.41421356]]\n"
          ]
        }
      ]
    },
    {
      "cell_type": "markdown",
      "source": [
        "8. Обчислити суму елементів кожного рядка. Відповідь записати як вектор-стовпчик"
      ],
      "metadata": {
        "id": "xapASZxGguIW"
      },
      "id": "xapASZxGguIW"
    },
    {
      "cell_type": "code",
      "source": [
        "row_sums = np.sum(matrix, axis=1).reshape(-1, 1)\n",
        "print(\"Сума елементів кожного рядка:\")\n",
        "print(row_sums)\n",
        "#В результаті отримали вектор стовпчик"
      ],
      "metadata": {
        "colab": {
          "base_uri": "https://localhost:8080/"
        },
        "id": "yLAY3MZ-gwWC",
        "outputId": "70ac4a69-1d69-4672-f2cf-692fa7100d27"
      },
      "id": "yLAY3MZ-gwWC",
      "execution_count": 12,
      "outputs": [
        {
          "output_type": "stream",
          "name": "stdout",
          "text": [
            "Сума елементів кожного рядка:\n",
            "[[ 7]\n",
            " [14]\n",
            " [ 8]]\n"
          ]
        }
      ]
    },
    {
      "cell_type": "markdown",
      "source": [
        "9. Створити вектор, що містить 25 елементів. Заповнити числами від 0 до 9. Відсортувати числа за спаданням."
      ],
      "metadata": {
        "id": "6prbhA24g_P2"
      },
      "id": "6prbhA24g_P2"
    },
    {
      "cell_type": "code",
      "source": [
        "vector = np.random.randint(0, 10, size=25)\n",
        "print(\"Початковий вектор:\")\n",
        "print (vector)\n",
        "# Сортуємо числа за спаданням\n",
        "sorted_vector = np.sort(vector) [::-1]\n",
        "print(\"Вектор після сортування за спаданням:\")\n",
        "print(sorted_vector)"
      ],
      "metadata": {
        "colab": {
          "base_uri": "https://localhost:8080/"
        },
        "id": "TMEI_nPLhAN4",
        "outputId": "6005ddfa-e26a-49b1-d747-0ea7a62a068a"
      },
      "id": "TMEI_nPLhAN4",
      "execution_count": 15,
      "outputs": [
        {
          "output_type": "stream",
          "name": "stdout",
          "text": [
            "Початковий вектор:\n",
            "[7 5 5 1 4 0 7 4 3 1 8 7 1 1 7 3 6 2 3 3 7 6 8 5 4]\n",
            "Вектор після сортування за спаданням:\n",
            "[8 8 7 7 7 7 7 6 6 5 5 5 4 4 4 3 3 3 3 2 1 1 1 1 0]\n"
          ]
        }
      ]
    },
    {
      "cell_type": "markdown",
      "source": [
        "10. Знайти моду, медіану, середнє, максимальне, мінімальне значення"
      ],
      "metadata": {
        "id": "TPgmN_iWhaN2"
      },
      "id": "TPgmN_iWhaN2"
    },
    {
      "cell_type": "code",
      "source": [
        "from scipy import stats\n",
        "# Знаходимо моду\n",
        "mode = stats.mode(vector)\n",
        "# Знаходимо медіану\n",
        "median = np.median(vector)\n",
        "# Знаходимо середнє\n",
        "mean = np.mean (vector)\n",
        "# Знаходимо максимальне значення\n",
        "max_value = np.max(vector)\n",
        "# Знаходимо мінімальне значення\n",
        "min_value = np.min(vector)\n",
        "print(\"Мода:\", mode)\n",
        "print(\"Медіана:\", median)\n",
        "print(\"Середнє:\", mean)\n",
        "print(\"Максимальне значення:\", max_value)\n",
        "print(\"Мінімальне значення:\", min_value)"
      ],
      "metadata": {
        "colab": {
          "base_uri": "https://localhost:8080/"
        },
        "id": "ODVYakCoha_9",
        "outputId": "8f51aaf8-8bff-4747-aa0b-28496c3fe880"
      },
      "id": "ODVYakCoha_9",
      "execution_count": 17,
      "outputs": [
        {
          "output_type": "stream",
          "name": "stdout",
          "text": [
            "Мода: ModeResult(mode=np.int64(7), count=np.int64(5))\n",
            "Медіана: 4.0\n",
            "Середнє: 4.32\n",
            "Максимальне значення: 8\n",
            "Мінімальне значення: 0\n"
          ]
        }
      ]
    },
    {
      "cell_type": "markdown",
      "source": [
        "11. Створити дві матриці 4*4, заповнені числами від 1 до 10. Обчислити суму, різницю, поелементний добуток, частку."
      ],
      "metadata": {
        "id": "ecpqJnHthx0F"
      },
      "id": "ecpqJnHthx0F"
    },
    {
      "cell_type": "code",
      "source": [
        "# Створюємо дві матриці 4х4 із випадкових цілих чисел від 1 до 10\n",
        "matrix1 = np.random.randint(1, 11, size=(4, 4))\n",
        "matrix2 = np.random.randint(1, 11, size=(4, 4))\n",
        "print(\"Матриця 1:\")\n",
        "print(matrix1)\n",
        "print(\"\\nМатриця 2:\")\n",
        "print(matrix2)"
      ],
      "metadata": {
        "colab": {
          "base_uri": "https://localhost:8080/"
        },
        "id": "AbWMu1dKhyl0",
        "outputId": "80ce4b6d-63e7-44d2-caec-3eee5acdfd65"
      },
      "id": "AbWMu1dKhyl0",
      "execution_count": 18,
      "outputs": [
        {
          "output_type": "stream",
          "name": "stdout",
          "text": [
            "Матриця 1:\n",
            "[[10  1  7 10]\n",
            " [ 1  8  4  8]\n",
            " [ 2  4  5  9]\n",
            " [ 1  8  9  7]]\n",
            "\n",
            "Матриця 2:\n",
            "[[ 4  1 10  4]\n",
            " [ 4  3  3  9]\n",
            " [ 2  9  2  4]\n",
            " [ 2  1  2  5]]\n"
          ]
        }
      ]
    },
    {
      "cell_type": "code",
      "source": [
        "# обчислюємо суму матриць\n",
        "matrix_sum = matrix1 + matrix2\n",
        "# обчислюємо різницю матриць\n",
        "matrix_diff = matrix1 - matrix2\n",
        "# обчислюємо поелементний добуток матриць\n",
        "matrix_product = matrix1 * matrix2\n",
        "# обчислюємо поелементну частку матриць\n",
        "# Для запобігання ділення на нуль, використовуємо пр.divide з параметром where matrix_division = np.divide(matrix1, matrix2, where=(matrix2!=0))\n",
        "print(\"\\nСума матриць:\")\n",
        "print(matrix_sum)\n",
        "print(\"\\nРізниця матриць:\")\n",
        "print(matrix_diff)\n",
        "print(\"\\nПоелементний добуток матриць:\")\n",
        "print(matrix_product)"
      ],
      "metadata": {
        "colab": {
          "base_uri": "https://localhost:8080/"
        },
        "id": "oG6fk8LMiPgH",
        "outputId": "3894fb76-563e-4e5e-a620-2efdc4b6f240"
      },
      "id": "oG6fk8LMiPgH",
      "execution_count": 30,
      "outputs": [
        {
          "output_type": "stream",
          "name": "stdout",
          "text": [
            "\n",
            "Сума матриць:\n",
            "[[14  2 17 14]\n",
            " [ 5 11  7 17]\n",
            " [ 4 13  7 13]\n",
            " [ 3  9 11 12]]\n",
            "\n",
            "Різниця матриць:\n",
            "[[ 6  0 -3  6]\n",
            " [-3  5  1 -1]\n",
            " [ 0 -5  3  5]\n",
            " [-1  7  7  2]]\n",
            "\n",
            "Поелементний добуток матриць:\n",
            "[[40  1 70 40]\n",
            " [ 4 24 12 72]\n",
            " [ 4 36 10 36]\n",
            " [ 2  8 18 35]]\n"
          ]
        }
      ]
    },
    {
      "cell_type": "markdown",
      "source": [
        "12. Задати вектор-рядок, що містить дійсні числа 1.0-8.0. Зробити матрицю 3*3. Помножити на вектор-рядок, що містить числа 0.0-2.0"
      ],
      "metadata": {
        "id": "EebFcwR_inLH"
      },
      "id": "EebFcwR_inLH"
    },
    {
      "cell_type": "code",
      "source": [
        "x = np.arange(9.0)\n",
        "x"
      ],
      "metadata": {
        "colab": {
          "base_uri": "https://localhost:8080/"
        },
        "id": "ecQ9IDu7itw8",
        "outputId": "b8b827d2-565d-47d5-f1ba-2e4ba3511d45"
      },
      "id": "ecQ9IDu7itw8",
      "execution_count": 22,
      "outputs": [
        {
          "output_type": "execute_result",
          "data": {
            "text/plain": [
              "array([0., 1., 2., 3., 4., 5., 6., 7., 8.])"
            ]
          },
          "metadata": {},
          "execution_count": 22
        }
      ]
    },
    {
      "cell_type": "code",
      "source": [
        "x1 = x.reshape((3, 3))\n",
        "x1"
      ],
      "metadata": {
        "colab": {
          "base_uri": "https://localhost:8080/"
        },
        "id": "reZKcMQWi0G7",
        "outputId": "6a4b3a47-3337-4c22-8e14-88f2dcabec97"
      },
      "id": "reZKcMQWi0G7",
      "execution_count": 23,
      "outputs": [
        {
          "output_type": "execute_result",
          "data": {
            "text/plain": [
              "array([[0., 1., 2.],\n",
              "       [3., 4., 5.],\n",
              "       [6., 7., 8.]])"
            ]
          },
          "metadata": {},
          "execution_count": 23
        }
      ]
    },
    {
      "cell_type": "code",
      "source": [
        "x2 = np.arange(3.0)\n",
        "x2"
      ],
      "metadata": {
        "colab": {
          "base_uri": "https://localhost:8080/"
        },
        "id": "-JAZeix1i4cB",
        "outputId": "34a95bee-5d0d-4b19-e471-766c3407fb73"
      },
      "id": "-JAZeix1i4cB",
      "execution_count": 24,
      "outputs": [
        {
          "output_type": "execute_result",
          "data": {
            "text/plain": [
              "array([0., 1., 2.])"
            ]
          },
          "metadata": {},
          "execution_count": 24
        }
      ]
    },
    {
      "cell_type": "code",
      "source": [
        "np.multiply(x1, x2)"
      ],
      "metadata": {
        "colab": {
          "base_uri": "https://localhost:8080/"
        },
        "id": "t-Ez6lCri6oT",
        "outputId": "03863c35-360e-40fb-f6d6-ca4d637f3fc2"
      },
      "id": "t-Ez6lCri6oT",
      "execution_count": 25,
      "outputs": [
        {
          "output_type": "execute_result",
          "data": {
            "text/plain": [
              "array([[ 0.,  1.,  4.],\n",
              "       [ 0.,  4., 10.],\n",
              "       [ 0.,  7., 16.]])"
            ]
          },
          "metadata": {},
          "execution_count": 25
        }
      ]
    },
    {
      "cell_type": "markdown",
      "source": [
        "13. Задати вектор-рядок (числа 1-5). Обчислити вектор в кубі."
      ],
      "metadata": {
        "id": "3fBsutpsjGpz"
      },
      "id": "3fBsutpsjGpz"
    },
    {
      "cell_type": "code",
      "source": [
        "x1 = np.arange(6)\n",
        "x1"
      ],
      "metadata": {
        "colab": {
          "base_uri": "https://localhost:8080/"
        },
        "id": "QFUjzXhLjNpB",
        "outputId": "3a20ab93-d2b6-4d97-f13a-213d5c987c6a"
      },
      "id": "QFUjzXhLjNpB",
      "execution_count": 27,
      "outputs": [
        {
          "output_type": "execute_result",
          "data": {
            "text/plain": [
              "array([0, 1, 2, 3, 4, 5])"
            ]
          },
          "metadata": {},
          "execution_count": 27
        }
      ]
    },
    {
      "cell_type": "code",
      "source": [
        "np.power (x1, 3)"
      ],
      "metadata": {
        "colab": {
          "base_uri": "https://localhost:8080/"
        },
        "id": "9rQtLk7rjPzi",
        "outputId": "97a4d8a3-b3f7-498f-b9f6-2a557fb1a83c"
      },
      "id": "9rQtLk7rjPzi",
      "execution_count": 28,
      "outputs": [
        {
          "output_type": "execute_result",
          "data": {
            "text/plain": [
              "array([  0,   1,   8,  27,  64, 125])"
            ]
          },
          "metadata": {},
          "execution_count": 28
        }
      ]
    },
    {
      "cell_type": "markdown",
      "source": [
        "14. Піднести до ступеня"
      ],
      "metadata": {
        "id": "KVh-X57njZix"
      },
      "id": "KVh-X57njZix"
    },
    {
      "cell_type": "code",
      "source": [
        "x2= np.array([1, 2, 3, 3, 2, 1])\n",
        "x1 = np.arange(6)\n",
        "x1 ** x2"
      ],
      "metadata": {
        "colab": {
          "base_uri": "https://localhost:8080/"
        },
        "id": "AJeXUg15ja5S",
        "outputId": "c03ba27e-1c14-45f2-cad6-4c227af9dce7"
      },
      "id": "AJeXUg15ja5S",
      "execution_count": 29,
      "outputs": [
        {
          "output_type": "execute_result",
          "data": {
            "text/plain": [
              "array([ 0,  1,  8, 27, 16,  5])"
            ]
          },
          "metadata": {},
          "execution_count": 29
        }
      ]
    }
  ],
  "metadata": {
    "kernelspec": {
      "display_name": "Python 3 (ipykernel)",
      "language": "python",
      "name": "python3"
    },
    "language_info": {
      "codemirror_mode": {
        "name": "ipython",
        "version": 3
      },
      "file_extension": ".py",
      "mimetype": "text/x-python",
      "name": "python",
      "nbconvert_exporter": "python",
      "pygments_lexer": "ipython3",
      "version": "3.9.2"
    },
    "colab": {
      "provenance": [],
      "include_colab_link": true
    }
  },
  "nbformat": 4,
  "nbformat_minor": 5
}